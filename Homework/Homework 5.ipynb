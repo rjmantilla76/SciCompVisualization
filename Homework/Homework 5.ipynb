{
 "cells": [
  {
   "cell_type": "markdown",
   "metadata": {},
   "source": [
    "# Visualizing Scalar Fields\n",
    "## Rafael J. Mantilla - 201124446\n",
    "\n",
    "We first begin by attempting to visualize the file wind_image.vti through isosurfaces:"
   ]
  },
  {
   "cell_type": "code",
   "execution_count": 43,
   "metadata": {
    "collapsed": false
   },
   "outputs": [],
   "source": [
    "import vtk\n",
    "\n",
    "reader = vtk.vtkXMLImageDataReader()\n",
    "reader.SetFileName(\"./data/wind_image.vti\")\n",
    "reader.Update()\n",
    "\n",
    "scalarRange = reader.GetOutput().GetPointData().GetScalars().GetRange(-1)\n",
    "contoursFilter = vtk.vtkContourFilter()\n",
    "contoursFilter.SetInputConnection(reader.GetOutputPort())\n",
    "contoursFilter.GenerateValues(200, scalarRange)\n",
    "\n",
    "contoursMapper = vtk.vtkPolyDataMapper()\n",
    "contoursMapper.SetInputConnection(contoursFilter.GetOutputPort())\n",
    "contoursMapper.SetColorModeToMapScalars()\n",
    "contoursMapper.SelectColorArray('wind_speed')\n",
    "contoursMapper.ScalarVisibilityOn()\n",
    "contoursMapper.SetScalarRange(scalarRange)\n",
    "\n",
    "\n",
    "contoursActor = vtk.vtkActor()\n",
    "contoursActor.SetMapper(contoursMapper)\n",
    "\n",
    "actor = vtk.vtkActor()\n",
    "actor.SetMapper(contoursMapper)\n",
    "actor.GetProperty().SetOpacity(0.1)\n",
    "\n",
    " \n",
    "# Setup rendering\n",
    "renderer = vtk.vtkRenderer()\n",
    "renderer.AddActor(actor)\n",
    "renderer.SetBackground(1,1,1)\n",
    "renderer.ResetCamera()\n",
    " \n",
    "renderWindow = vtk.vtkRenderWindow()\n",
    "renderWindow.AddRenderer(renderer)\n",
    " \n",
    "renderWindowInteractor = vtk.vtkRenderWindowInteractor()\n",
    " \n",
    "renderWindowInteractor.SetRenderWindow(renderWindow)\n",
    "renderWindowInteractor.Start()\n"
   ]
  },
  {
   "cell_type": "markdown",
   "metadata": {},
   "source": [
    "<img src = \"./data/Homework 5-1.PNG\" width=500>"
   ]
  },
  {
   "cell_type": "markdown",
   "metadata": {},
   "source": [
    "From the first exploration it seems we are interested in high and low wind speed areas, so we focus our opacity in the lower and higher areas:"
   ]
  },
  {
   "cell_type": "code",
   "execution_count": 45,
   "metadata": {
    "collapsed": false
   },
   "outputs": [],
   "source": [
    "import vtk\n",
    "\n",
    "reader = vtk.vtkXMLImageDataReader()\n",
    "reader.SetFileName(\"./data/wind_image.vti\")\n",
    "reader.Update()\n",
    "\n",
    "scalarRange = reader.GetOutput().GetPointData().GetScalars().GetRange(-1)\n",
    "contoursFilter = vtk.vtkContourFilter()\n",
    "contoursFilter.SetInputConnection(reader.GetOutputPort())\n",
    "contoursFilter.GenerateValues(200, scalarRange)\n",
    "\n",
    "opacityTransferFunction = vtk.vtkPiecewiseFunction()\n",
    "length=scalarRange[1] - scalarRange[0]\n",
    "opacityTransferFunction.AddPoint(scalarRange[0],0.2)\n",
    "opacityTransferFunction.AddPoint(scalarRange[0]+length/10,0.05)\n",
    "opacityTransferFunction.AddPoint(scalarRange[0]+2*length/10,0.005)\n",
    "opacityTransferFunction.AddPoint(scalarRange[0]+5*length/10,0.005)\n",
    "opacityTransferFunction.AddPoint(scalarRange[0]+7*length/10,0.1)\n",
    "opacityTransferFunction.AddPoint(scalarRange[0]+9*length/10,0.1)\n",
    "opacityTransferFunction.AddPoint(scalarRange[0]+19*length/20,0.6)\n",
    "opacityTransferFunction.AddPoint(scalarRange[1],0.5)\n",
    "\n",
    "# Create transfer mapping scalar value to color\n",
    "colorTransferFunction = vtk.vtkColorTransferFunction()\n",
    "colorTransferFunction.AddRGBPoint(scalarRange[0],0,0,1)\n",
    "colorTransferFunction.AddRGBPoint(scalarRange[0]+length/2,0,1,0)\n",
    "colorTransferFunction.AddRGBPoint(scalarRange[1],1,0,0)\n",
    "\n",
    "# The property describes how the data will look\n",
    "volumeProperty = vtk.vtkVolumeProperty()\n",
    "volumeProperty.SetColor(colorTransferFunction)\n",
    "volumeProperty.SetScalarOpacity(opacityTransferFunction)\n",
    "volumeProperty.ShadeOn()\n",
    "volumeProperty.SetInterpolationTypeToLinear()\n",
    "\n",
    "# The mapper / ray cast function know how to render the data\n",
    "#volumeMapper = vtk.vtkProjectedTetrahedraMapper()\n",
    "#volumeMapper = vtk.vtkUnstructuredGridVolumeZSweepMapper()\n",
    "volumeMapper = vtk.vtkGPUVolumeRayCastMapper()\n",
    "#volumeMapper = vtk.vtkUnstructuredGridVolumeRayCastMapper()\n",
    "volumeMapper.SetInputData(reader.GetOutput())\n",
    "\n",
    "# The volume holds the mapper and the property and\n",
    "# can be used to position/orient the volume\n",
    "volume = vtk.vtkVolume()\n",
    "volume.SetMapper(volumeMapper)\n",
    "volume.SetProperty(volumeProperty)\n",
    "\n",
    "##------------END VOLUME RENDERING ----------------------\n",
    "\n",
    "#outline\n",
    "outline = vtk.vtkOutlineFilter()\n",
    "outline.SetInputData(reader.GetOutput())\n",
    "outlineMapper = vtk.vtkPolyDataMapper()\n",
    "outlineMapper.SetInputConnection(outline.GetOutputPort())\n",
    "outlineActor = vtk.vtkActor()\n",
    "outlineActor.SetMapper(outlineMapper)\n",
    "outlineActor.GetProperty().SetColor(1,1,1)\n",
    "\n",
    "#---------RENDERER, RENDER WINDOW, AND INTERACTOR ----------\n",
    "renderer = vtk.vtkRenderer()\n",
    "renderer.SetBackground(0.1, 0.1, 0.1)\n",
    "renderer.AddVolume(volume)\n",
    "renderer.AddActor(outlineActor)\n",
    "renderer.ResetCamera()\n",
    "\n",
    "renderWindow = vtk.vtkRenderWindow()\n",
    "renderWindow.AddRenderer(renderer)\n",
    "renderWindow.SetSize(500, 500)\n",
    "renderWindow.Render()\n",
    "\n",
    "iren = vtk.vtkRenderWindowInteractor()\n",
    "iren.SetRenderWindow(renderWindow)\n",
    "iren.Start()"
   ]
  },
  {
   "cell_type": "markdown",
   "metadata": {
    "collapsed": true
   },
   "source": [
    "<img src = \"./data/Homework 5-2.PNG\" width=500>"
   ]
  },
  {
   "cell_type": "markdown",
   "metadata": {
    "collapsed": true
   },
   "source": [
    "Note that we can identify a section with high speed in the middle of the picture which we will call \"the eye\""
   ]
  }
 ],
 "metadata": {
  "kernelspec": {
   "display_name": "Python 3",
   "language": "python",
   "name": "python3"
  },
  "language_info": {
   "codemirror_mode": {
    "name": "ipython",
    "version": 3
   },
   "file_extension": ".py",
   "mimetype": "text/x-python",
   "name": "python",
   "nbconvert_exporter": "python",
   "pygments_lexer": "ipython3",
   "version": "3.5.1"
  }
 },
 "nbformat": 4,
 "nbformat_minor": 0
}
