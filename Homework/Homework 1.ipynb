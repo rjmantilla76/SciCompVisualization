{
 "cells": [
  {
   "cell_type": "markdown",
   "metadata": {},
   "source": [
    "## Homework 1 - Generating random numbers\n",
    "### Rafael J. Mantilla - 201124446\n",
    "\n",
    "We wish to generate a set of random numbers such that the sum of all of them is 1. To do this the first approach is to generate n random numbers and divide by the sum of them:"
   ]
  },
  {
   "cell_type": "code",
   "execution_count": null,
   "metadata": {
    "collapsed": false
   },
   "outputs": [],
   "source": [
    "import math\n",
    "import numpy as np\n",
    "import random\n",
    "\n",
    "def genRandomNumbers(n):\n",
    "    numbers = np.random.random(n)\n",
    "    r = numbers/np.sum(numbers)\n",
    "    return r\n"
   ]
  },
  {
   "cell_type": "markdown",
   "metadata": {},
   "source": [
    "We test this method:"
   ]
  },
  {
   "cell_type": "code",
   "execution_count": 56,
   "metadata": {
    "collapsed": false
   },
   "outputs": [
    {
     "name": "stdout",
     "output_type": "stream",
     "text": [
      "[[ 0.0167649   0.04243868  0.04115585  0.00949049  0.01349623]\n",
      " [ 0.02827183  0.01041426  0.01318958  0.01662888  0.00153306]\n",
      " [ 0.00817357  0.03616943  0.02276541  0.00650139  0.00275568]\n",
      " [ 0.01320584  0.01275379  0.01972553  0.03048267  0.02325274]\n",
      " [ 0.03912722  0.0004999   0.0285396   0.04540847  0.02001361]\n",
      " [ 0.01517094  0.02546184  0.00484445  0.02442472  0.00919804]\n",
      " [ 0.0315442   0.04370647  0.0099419   0.03739028  0.02371665]\n",
      " [ 0.02836388  0.00781755  0.02703931  0.02748751  0.01488405]\n",
      " [ 0.02106436  0.00806113  0.04450566  0.0025009   0.00395877]\n",
      " [ 0.0096769   0.04560597  0.00532868  0.02050558  0.00504162]]\n",
      "Sum of numbers:  1.0\n"
     ]
    }
   ],
   "source": [
    "result = genRandomNumbers(50)\n",
    "result.shape= (10, 5)\n",
    "print(result)\n",
    "print(\"Sum of numbers: \",np.sum(result))"
   ]
  },
  {
   "cell_type": "markdown",
   "metadata": {},
   "source": [
    "Note however that this method does not generate a uniform random over the simplex\n",
    "$$\\sum\\limits_{i=1}^n x_i = 1, \\qquad x_i \\in [0,1) \\,\\,\\forall i$$\n",
    "We exhibit this fact generating two random numbers and checking if the first one is greater than 0.9. If the numbers were uniformly generated we would expect this to ocurr 10% of the times:"
   ]
  },
  {
   "cell_type": "code",
   "execution_count": 42,
   "metadata": {
    "collapsed": false
   },
   "outputs": [
    {
     "name": "stdout",
     "output_type": "stream",
     "text": [
      "The first number was greater than 0.9, 5.475 % of the tests.\n",
      "10000 loops, best of 3: 101 µs per loop\n"
     ]
    }
   ],
   "source": [
    "def testDistro (generator):\n",
    "    cont = 0\n",
    "    for i in range(1,100000):\n",
    "        r = generator(2)\n",
    "        if(r[0]>0.9):\n",
    "            cont+=1\n",
    "    print(\"The first number was greater than 0.9,\",cont/1000,\"% of the tests.\")\n",
    "\n",
    "testDistro(genRandomNumbers)\n",
    "%timeit genRandomNumbers(10000)"
   ]
  },
  {
   "cell_type": "markdown",
   "metadata": {},
   "source": [
    "Generating a uniform distribution over a polytope is an interesting problem outside the scope of this course. We exhibit two other methods in which we can generate random numbers. First we use the Dirchlet distribution (https://en.wikipedia.org/wiki/Dirichlet_distribution). This distribution of course is far from the uniform distribution, however it allows you to assign specific weights to each value and has many important uses. This solves our problem in a unique way but may be too slow for generating big samples:"
   ]
  },
  {
   "cell_type": "code",
   "execution_count": 51,
   "metadata": {
    "collapsed": false
   },
   "outputs": [],
   "source": [
    "def genDirichlet(n):\n",
    "    #We assign equal weights to every element\n",
    "    return numpy.random.dirichlet([1 for i in range(1,n+1)])"
   ]
  },
  {
   "cell_type": "markdown",
   "metadata": {},
   "source": [
    "We test this method, note that :"
   ]
  },
  {
   "cell_type": "code",
   "execution_count": 59,
   "metadata": {
    "collapsed": false
   },
   "outputs": [
    {
     "name": "stdout",
     "output_type": "stream",
     "text": [
      "[[ 0.00242094  0.04283598  0.02293029  0.00886232  0.03360806]\n",
      " [ 0.11515103  0.02045271  0.00529303  0.01305147  0.00894993]\n",
      " [ 0.0012646   0.00734888  0.01159935  0.01515866  0.01806239]\n",
      " [ 0.00223048  0.02697281  0.02264462  0.04379689  0.00044209]\n",
      " [ 0.00805795  0.01449295  0.02003482  0.01657966  0.00717353]\n",
      " [ 0.00174778  0.03821572  0.02975769  0.02253871  0.00539277]\n",
      " [ 0.026548    0.01073457  0.06623237  0.00042132  0.07244201]\n",
      " [ 0.00410546  0.00650369  0.02049357  0.00133453  0.02365063]\n",
      " [ 0.01754688  0.0009024   0.02014108  0.02174597  0.04248681]\n",
      " [ 0.01973533  0.00308361  0.0385497   0.01348668  0.0027873 ]]\n",
      "Sum of numbers:  1.0\n",
      "The first number was greater than 0.9, 10.137 % of the tests.\n",
      "1000 loops, best of 3: 1.27 ms per loop\n"
     ]
    }
   ],
   "source": [
    "result = genDirichlet(50)\n",
    "result.shape= (10, 5)\n",
    "print(result)\n",
    "print(\"Sum of numbers: \",np.sum(result))\n",
    "testDistro(genDirichlet)\n",
    "%timeit genDirichlet(10000)"
   ]
  },
  {
   "cell_type": "code",
   "execution_count": null,
   "metadata": {
    "collapsed": true
   },
   "outputs": [],
   "source": []
  }
 ],
 "metadata": {
  "kernelspec": {
   "display_name": "Python 3",
   "language": "python",
   "name": "python3"
  },
  "language_info": {
   "codemirror_mode": {
    "name": "ipython",
    "version": 3
   },
   "file_extension": ".py",
   "mimetype": "text/x-python",
   "name": "python",
   "nbconvert_exporter": "python",
   "pygments_lexer": "ipython3",
   "version": "3.5.1"
  }
 },
 "nbformat": 4,
 "nbformat_minor": 0
}
