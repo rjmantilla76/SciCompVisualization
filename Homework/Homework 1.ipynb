{
 "cells": [
  {
   "cell_type": "markdown",
   "metadata": {},
   "source": [
    "## Homework 1 - Generating random numbers\n",
    "### Rafael J. Mantilla - 201124446\n",
    "\n",
    "We wish to generate a set of random numbers such that the sum of all of them is 1. To do this the first approach is to generate n random numbers and divide by the sum of them:"
   ]
  },
  {
   "cell_type": "code",
   "execution_count": 7,
   "metadata": {
    "collapsed": false
   },
   "outputs": [],
   "source": [
    "import math\n",
    "import numpy as np\n",
    "import random\n",
    "\n",
    "def genRandomNumbers(n):\n",
    "    numbers = np.random.random(n)\n",
    "    r = numbers/np.sum(numbers)\n",
    "    return r\n"
   ]
  },
  {
   "cell_type": "markdown",
   "metadata": {},
   "source": [
    "We test this method:"
   ]
  },
  {
   "cell_type": "code",
   "execution_count": 8,
   "metadata": {
    "collapsed": false
   },
   "outputs": [
    {
     "name": "stdout",
     "output_type": "stream",
     "text": [
      "[[ 0.01871105  0.01567055  0.03276538  0.02217579  0.00884694]\n",
      " [ 0.01698476  0.01408447  0.02465391  0.01211022  0.0269604 ]\n",
      " [ 0.00666506  0.04002337  0.03736444  0.00497442  0.035067  ]\n",
      " [ 0.01770939  0.01723275  0.00773817  0.02944845  0.01182915]\n",
      " [ 0.00895664  0.01913457  0.01040641  0.0187253   0.02530687]\n",
      " [ 0.02239932  0.03093257  0.00167949  0.03059018  0.03208727]\n",
      " [ 0.02463878  0.02080803  0.02901358  0.03985664  0.0240395 ]\n",
      " [ 0.02115961  0.00492921  0.0147116   0.00609618  0.00772564]\n",
      " [ 0.03637123  0.01159816  0.03300292  0.01826314  0.02048749]\n",
      " [ 0.00932972  0.02986441  0.01247843  0.00723186  0.02715957]]\n",
      "Sum of numbers:  1.0\n"
     ]
    }
   ],
   "source": [
    "result = genRandomNumbers(50)\n",
    "result.shape= (10, 5)\n",
    "print(result)\n",
    "print(\"Sum of numbers: \",np.sum(result))"
   ]
  },
  {
   "cell_type": "markdown",
   "metadata": {},
   "source": [
    "Note however that this method does not generate a uniform random over the simplex\n",
    "$$\\sum\\limits_{i=1}^n x_i = 1, \\qquad x_i \\in [0,1) \\,\\,\\forall i$$\n",
    "We exhibit this fact generating two random numbers and checking if the first one is greater than 0.9. If the numbers were uniformly generated we would expect this to ocurr 10% of the times:"
   ]
  },
  {
   "cell_type": "code",
   "execution_count": 35,
   "metadata": {
    "collapsed": false
   },
   "outputs": [
    {
     "name": "stdout",
     "output_type": "stream",
     "text": [
      "The first number was greater than 0.9, 5.5666 % of the tests.\n",
      "10000 loops, best of 3: 101 µs per loop\n"
     ]
    }
   ],
   "source": [
    "def testDistro (generator):\n",
    "    cont = 0\n",
    "    for i in range(1,1000000):\n",
    "        r = generator(2)\n",
    "        if(r[0]>0.9):\n",
    "            cont+=1\n",
    "    print(\"The first number was greater than 0.9,\",cont/10000,\"% of the tests.\")\n",
    "\n",
    "testDistro(genRandomNumbers)\n",
    "%timeit genRandomNumbers(10000)"
   ]
  },
  {
   "cell_type": "markdown",
   "metadata": {},
   "source": [
    "Generating a uniform distribution over a polytope is an interesting problem outside the scope of this course. We exhibit two other methods in which we can generate random numbers. First we use the Dirchlet distribution (https://en.wikipedia.org/wiki/Dirichlet_distribution). This distribution of course is far from the uniform distribution, however it allows you to assign specific weights to each value and has many important uses. This solves our problem in a unique way but may be too slow for generating big samples:"
   ]
  },
  {
   "cell_type": "code",
   "execution_count": 10,
   "metadata": {
    "collapsed": false
   },
   "outputs": [],
   "source": [
    "def genDirichlet(n):\n",
    "    #We assign equal weights to every element\n",
    "    return np.random.dirichlet([1 for i in range(1,n+1)])"
   ]
  },
  {
   "cell_type": "markdown",
   "metadata": {},
   "source": [
    "We test this method, note that this algorithm is a thousand times slower than the original algoritm:"
   ]
  },
  {
   "cell_type": "code",
   "execution_count": 36,
   "metadata": {
    "collapsed": false
   },
   "outputs": [
    {
     "name": "stdout",
     "output_type": "stream",
     "text": [
      "[[ 0.02164352  0.04554604  0.00806976  0.03101509  0.03415198]\n",
      " [ 0.02419079  0.00465816  0.01330326  0.00842873  0.0203287 ]\n",
      " [ 0.11644653  0.00032912  0.02505601  0.04182979  0.04223069]\n",
      " [ 0.00480407  0.00576057  0.01995375  0.02363629  0.00969376]\n",
      " [ 0.02408311  0.0221214   0.03708667  0.02436967  0.00089718]\n",
      " [ 0.00718505  0.00635403  0.03003119  0.0009001   0.00897548]\n",
      " [ 0.00186346  0.10553431  0.00924177  0.0011324   0.01057191]\n",
      " [ 0.02658602  0.01490799  0.00587077  0.02533061  0.00137782]\n",
      " [ 0.01561115  0.02783156  0.00150677  0.01092049  0.00683094]\n",
      " [ 0.0172882   0.02352905  0.01377511  0.0108878   0.00632135]]\n",
      "Sum of numbers:  1.0\n",
      "The first number was greater than 0.9, 10.0048 % of the tests.\n",
      "1000 loops, best of 3: 1.26 ms per loop\n"
     ]
    }
   ],
   "source": [
    "result = genDirichlet(50)\n",
    "result.shape= (10, 5)\n",
    "print(result)\n",
    "print(\"Sum of numbers: \",np.sum(result))\n",
    "testDistro(genDirichlet)\n",
    "%timeit genDirichlet(10000)"
   ]
  },
  {
   "cell_type": "markdown",
   "metadata": {
    "collapsed": true
   },
   "source": [
    "Finally we exhibit a second algorithm: to generate n random numbers (we can safely asume that $n\\geq 2$), we generate n-1 random numbers uniformly in the interval [0,1]. Then we add them to an array with the numbers 0 and 1, we sort the array and then proceed to output the differences between succesive elements. This method is garuanteed to produce numbers that add up to one. It is left as an excersise for the reader to check wherether this method produces numbers uniformely over the simlpex or not (this is obvious for n=2)."
   ]
  },
  {
   "cell_type": "code",
   "execution_count": 28,
   "metadata": {
    "collapsed": false
   },
   "outputs": [
    {
     "name": "stdout",
     "output_type": "stream",
     "text": [
      "[ 0.75103787  0.24896213]\n"
     ]
    }
   ],
   "source": [
    "def genRandomNumbers2 (n):\n",
    "    array = np.random.random(n-1)\n",
    "    array = np.concatenate([array,[0,1]])\n",
    "    array = np.sort(array)\n",
    "    return np.diff(array)\n",
    "print(genRandomNumbers2(2))"
   ]
  },
  {
   "cell_type": "markdown",
   "metadata": {},
   "source": [
    "We test out this algorithm:"
   ]
  },
  {
   "cell_type": "code",
   "execution_count": 37,
   "metadata": {
    "collapsed": false
   },
   "outputs": [
    {
     "name": "stdout",
     "output_type": "stream",
     "text": [
      "[[ 0.0102225   0.02776247  0.0233414   0.04242381  0.05222159]\n",
      " [ 0.02832329  0.00338065  0.01653955  0.02355165  0.00276543]\n",
      " [ 0.02339146  0.05398044  0.0039068   0.00813484  0.02605517]\n",
      " [ 0.05219408  0.00089393  0.0050168   0.03174658  0.00607992]\n",
      " [ 0.00337212  0.00191715  0.0411812   0.00193348  0.00472273]\n",
      " [ 0.00260984  0.01025273  0.0141723   0.00551736  0.01408978]\n",
      " [ 0.01425165  0.04559125  0.07441969  0.00662811  0.02035591]\n",
      " [ 0.01969184  0.01210817  0.00663702  0.01920889  0.00942344]\n",
      " [ 0.11998686  0.00354107  0.01307534  0.01297286  0.02710446]\n",
      " [ 0.00812016  0.00620691  0.01679717  0.01409998  0.00807821]]\n",
      "Sum of numbers:  1.0\n",
      "The first number was greater than 0.9, 9.9708 % of the tests.\n",
      "1000 loops, best of 3: 516 µs per loop\n"
     ]
    }
   ],
   "source": [
    "result = genRandomNumbers2(50)\n",
    "result.shape= (10, 5)\n",
    "print(result)\n",
    "print(\"Sum of numbers: \",np.sum(result))\n",
    "testDistro(genRandomNumbers2)\n",
    "%timeit genRandomNumbers2(10000)"
   ]
  }
 ],
 "metadata": {
  "kernelspec": {
   "display_name": "Python 3",
   "language": "python",
   "name": "python3"
  },
  "language_info": {
   "codemirror_mode": {
    "name": "ipython",
    "version": 3
   },
   "file_extension": ".py",
   "mimetype": "text/x-python",
   "name": "python",
   "nbconvert_exporter": "python",
   "pygments_lexer": "ipython3",
   "version": "3.5.1"
  }
 },
 "nbformat": 4,
 "nbformat_minor": 0
}
