{
 "cells": [
  {
   "cell_type": "markdown",
   "metadata": {},
   "source": [
    "# Visualizing Vector Fields\n",
    "## Rafael J. Mantilla - 201124446\n",
    "\n",
    "We first begin by attempting to visualize the file wind_image.vti using several streamlines and inserting iso volumes highlighting low and high speed areas:"
   ]
  },
  {
   "cell_type": "markdown",
   "metadata": {},
   "source": [
    "<img src=\"./data/Homework 6-1.PNG\">"
   ]
  },
  {
   "cell_type": "markdown",
   "metadata": {},
   "source": [
    "We then proceed to use ribbons to look out for places with high vorticities:"
   ]
  },
  {
   "cell_type": "markdown",
   "metadata": {},
   "source": [
    "<img src=\"./data/Homework 6-2.PNG\">"
   ]
  },
  {
   "cell_type": "markdown",
   "metadata": {},
   "source": [
    "We are now interested in looking at the vectores in the isovolumes to understand the direction the wind is moving"
   ]
  },
  {
   "cell_type": "markdown",
   "metadata": {},
   "source": [
    "<img src=\"./data/Homework 6-3.PNG\">\n"
   ]
  },
  {
   "cell_type": "markdown",
   "metadata": {},
   "source": [
    "We observe some interesting vortices forming at low wind velocities, so we proceed to restrict viewing only to low speed values:"
   ]
  },
  {
   "cell_type": "markdown",
   "metadata": {},
   "source": [
    "<img src=\"./data/Homework 6-4.PNG\">"
   ]
  },
  {
   "cell_type": "markdown",
   "metadata": {},
   "source": [
    "## Correcting the script made in class"
   ]
  },
  {
   "cell_type": "code",
   "execution_count": 9,
   "metadata": {
    "collapsed": false
   },
   "outputs": [],
   "source": [
    "import vtk\n",
    "\n",
    "reader = vtk.vtkRectilinearGridReader()\n",
    "reader.SetFileName(\"./data/jet4_0.500.vtk\")\n",
    "reader.Update()\n",
    "output = reader.GetOutput()\n",
    "\n",
    "xmi, xma, ymi, yma, zmi, zma = output.GetBounds()\n",
    "\n",
    "# Color Transfer Function and LookUpTable\n",
    "# Create transfer mapping scalar value to color\n",
    "colorTransferFunction = vtk.vtkColorTransferFunction()\n",
    "colorTransferFunction.AddRGBPoint(0,1,0,0)\n",
    "colorTransferFunction.AddRGBPoint(0.1,0,1,0)\n",
    "colorTransferFunction.AddRGBPoint(0.2,0,0,1)\n",
    "\n",
    "tableSize = 30\n",
    "#\n",
    "lut = vtk.vtkLookupTable()\n",
    "lut.SetNumberOfTableValues(tableSize)\n",
    "lut.Build()\n",
    "#\n",
    "for i in range(0,tableSize):\n",
    "    rgb = list(colorTransferFunction.GetColor(float(i)/tableSize))+[0.5]\n",
    "    lut.SetTableValue(i,rgb)\n",
    "        \n",
    "\n",
    "# A plane for the seeds\n",
    "plane = vtk.vtkPlaneSource()\n",
    "plane.SetOrigin(0, 0, 0)\n",
    "plane.SetPoint1(xma, 0, 0)\n",
    "plane.SetPoint2(0, 0, zma)\n",
    "plane.SetXResolution(20)\n",
    "plane.SetYResolution(20)\n",
    "\n",
    "# Add the outline of the plane\n",
    "outline = vtk.vtkOutlineFilter()\n",
    "outline.SetInputData(plane.GetOutput())\n",
    "outlineMapper = vtk.vtkPolyDataMapper()\n",
    "outlineMapper.SetInputConnection(outline.GetOutputPort())\n",
    "outlineActor = vtk.vtkActor()\n",
    "outlineActor.SetMapper(outlineMapper)\n",
    "outlineActor.GetProperty().SetColor(1,1,1)\n",
    "\n",
    "# Compute streamlines\n",
    "streamline = vtk.vtkStreamTracer()\n",
    "streamline.SetSourceConnection(plane.GetOutputPort())\n",
    "streamline.SetInputConnection(reader.GetOutputPort())\n",
    "# Try different integration alternatives! See the documentation of vtkStreamTracer\n",
    "streamline.SetIntegrationDirectionToForward()\n",
    "streamline.SetMaximumPropagation(1)\n",
    "streamline.SetComputeVorticity(True)\n",
    "\n",
    "# Pass the streamlines to the mapper\n",
    "streamlineMapper = vtk.vtkPolyDataMapper()\n",
    "streamlineMapper.SetLookupTable(lut)\n",
    "streamlineMapper.SetInputConnection(streamline.GetOutputPort())\n",
    "streamlineMapper.SetScalarVisibility(True)\n",
    "streamlineMapper.SetScalarModeToUsePointFieldData()\n",
    "streamlineMapper.SelectColorArray('vectors')\n",
    "# See documentation for the parameter in GetRange()\n",
    "# http://www.vtk.org/doc/nightly/html/classvtkDataArray.html#ab7efccf59d099c038a4ae269a490e1a3\n",
    "streamlineMapper.SetScalarRange((reader.GetOutput().GetPointData().GetVectors().GetRange(-1)))\n",
    "\n",
    "# Pass the mapper to the actor\n",
    "streamlineActor = vtk.vtkActor()\n",
    "streamlineActor.SetMapper(streamlineMapper)\n",
    "streamlineActor.GetProperty().SetLineWidth(2.0)\n",
    "\n",
    "# Rendering / Window\n",
    "renderer = vtk.vtkRenderer()\n",
    "renderer.SetBackground(0.0, 0.0, 0.0)\n",
    "renderer.AddActor(streamlineActor)\n",
    "renderer.AddActor(outlineActor)\n",
    "#renderer.AddActor(gOutlineActor)\n",
    "\n",
    "renderWindow = vtk.vtkRenderWindow()\n",
    "renderWindow.AddRenderer(renderer)\n",
    "renderWindow.SetSize(500, 500)\n",
    "renderWindow.Render()\n",
    "\n",
    "interactor = vtk.vtkRenderWindowInteractor()\n",
    "interactor.SetInteractorStyle(vtk.vtkInteractorStyleTrackballCamera())\n",
    "interactor.SetRenderWindow(renderWindow)\n",
    "interactor.Initialize()\n",
    "interactor.Start()"
   ]
  },
  {
   "cell_type": "code",
   "execution_count": null,
   "metadata": {
    "collapsed": true
   },
   "outputs": [],
   "source": []
  }
 ],
 "metadata": {
  "kernelspec": {
   "display_name": "Python 3",
   "language": "python",
   "name": "python3"
  },
  "language_info": {
   "codemirror_mode": {
    "name": "ipython",
    "version": 3
   },
   "file_extension": ".py",
   "mimetype": "text/x-python",
   "name": "python",
   "nbconvert_exporter": "python",
   "pygments_lexer": "ipython3",
   "version": "3.5.1"
  }
 },
 "nbformat": 4,
 "nbformat_minor": 0
}
